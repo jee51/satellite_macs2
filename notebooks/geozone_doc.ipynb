{
 "cells": [
  {
   "attachments": {},
   "cell_type": "markdown",
   "metadata": {},
   "source": [
    "# Test des fonctions d'accès aux données optiques.\n",
    "\n",
    "_Version 1.0 [31/01/2023] Jérôme Lacaille_"
   ]
  },
  {
   "cell_type": "code",
   "execution_count": 1,
   "metadata": {},
   "outputs": [],
   "source": [
    "import matplotlib.pyplot as plt\n",
    "\n",
    "%matplotlib inline\n",
    "\n",
    "plt.rcParams[\"figure.figsize\"] = (9,6) # Pour l'affichage d'images un peu plus grandes."
   ]
  },
  {
   "attachments": {},
   "cell_type": "markdown",
   "metadata": {},
   "source": [
    "Vous trouverez ci-dessous un lien vers la doc de paramétrage de \"matplotlib.\n",
    "\n",
    "> [Customizing Matplotlib with style sheets and rcParams](https://matplotlib.org/stable/tutorials/introductory/customizing.html)"
   ]
  },
  {
   "cell_type": "code",
   "execution_count": 2,
   "metadata": {},
   "outputs": [],
   "source": [
    "# Ce bout de code est pratique car il permet de recharger automatiquement un package quand vous le développez.\n",
    "%reload_ext autoreload\n",
    "%autoreload 2"
   ]
  },
  {
   "attachments": {},
   "cell_type": "markdown",
   "metadata": {},
   "source": [
    "## (Digression) Les fonction magiques.\n",
    "\n",
    "Jupyter-Notebooks dispose de macros pratiques comme %matplotlib ou %autoreload. Consultez la doc."
   ]
  },
  {
   "cell_type": "code",
   "execution_count": null,
   "metadata": {},
   "outputs": [],
   "source": [
    "%magic"
   ]
  },
  {
   "attachments": {},
   "cell_type": "markdown",
   "metadata": {},
   "source": [
    "## 1. Gestion des zones géographiques.\n",
    "\n",
    "Nous allons d'abord créer des fichiers de zones géographiques correspondant à des \"rectangles\" en latitude et longitudes.\n",
    "Ce que l'on souhaite c'est pouvoir manipuler des dictionnaires avec deux composantes : un nom et les coordonnées du rectangle :\n",
    "\n",
    "    {\n",
    "        'name' : \"Le nom de la zone\",\n",
    "        'bbox' : [lat_min, lon_min, lat_max, lon_max]\n",
    "    }\n",
    "\n",
    "Ensuite on va récupérer automatiquement ces rectangles depuis un site spécialisé et créer un nouvel objet Python capable de gérer ces listes."
   ]
  },
  {
   "attachments": {},
   "cell_type": "markdown",
   "metadata": {},
   "source": [
    "## (Digression) Le Markdown.\n",
    "\n",
    "Les cellules textes sont écrites en <mark>langage Markdown</mark> qui simplifie le HTML et inclue des fonctionnalités LaTeX.\n",
    "\n",
    "> [Guide MarkDown](https://www.markdownguide.org/)"
   ]
  },
  {
   "attachments": {},
   "cell_type": "markdown",
   "id": "tough-combat",
   "metadata": {},
   "source": [
    "### 1.1 Etude d'une zone géographique.\n",
    "En utilisant le site [geozone.io](https://geojson.io/) on peut créer facilement des GEOFILES qui contiennet des informations sur la latitude et la longitude de zones rectangulaires.\n",
    "\n",
    "Un bouton vous permet de copier facilement un descriptif json (geojson en fait) et le copier directement dans une cellule comme un dictionnaire."
   ]
  },
  {
   "cell_type": "code",
   "execution_count": 4,
   "metadata": {},
   "outputs": [],
   "source": [
    "geofile = {\n",
    "  \"type\": \"FeatureCollection\",\n",
    "  \"features\": [\n",
    "    {\n",
    "      \"type\": \"Feature\",\n",
    "      \"properties\": {'name' : 'Chypre'},\n",
    "      \"geometry\": {\n",
    "        \"coordinates\": [\n",
    "          [\n",
    "            [\n",
    "              23.554712962096346,\n",
    "              35.607613541778534\n",
    "            ],\n",
    "            [\n",
    "              23.554712962096346,\n",
    "              34.89248636947745\n",
    "            ],\n",
    "            [\n",
    "              26.302614086102693,\n",
    "              34.89248636947745\n",
    "            ],\n",
    "            [\n",
    "              26.302614086102693,\n",
    "              35.607613541778534\n",
    "            ],\n",
    "            [\n",
    "              23.554712962096346,\n",
    "              35.607613541778534\n",
    "            ]\n",
    "          ]\n",
    "        ],\n",
    "        \"type\": \"Polygon\"\n",
    "      }\n",
    "    }\n",
    "  ]\n",
    "}"
   ]
  },
  {
   "attachments": {},
   "cell_type": "markdown",
   "id": "67fb12d7",
   "metadata": {},
   "source": [
    "Pour mieux gérer vos zones géographiques (geozones) je vous propose de rajouter un champ 'name' aux propriétés. Vous verrez que cela nous facilitera le travail par la suite.\n",
    "\n",
    "          \"properties\": {'name' : 'Chypre'},"
   ]
  },
  {
   "cell_type": "code",
   "execution_count": 5,
   "id": "f1c7b280",
   "metadata": {},
   "outputs": [],
   "source": [
    "# On va avoir besoin de numpy pour gérer les coordinnées.\n",
    "import numpy as np"
   ]
  },
  {
   "attachments": {},
   "cell_type": "markdown",
   "metadata": {},
   "source": [
    "On va maintenant récupérer le nom et les coordonnées."
   ]
  },
  {
   "cell_type": "code",
   "execution_count": 6,
   "metadata": {},
   "outputs": [
    {
     "data": {
      "text/plain": [
       "'Chypre'"
      ]
     },
     "execution_count": 6,
     "metadata": {},
     "output_type": "execute_result"
    }
   ],
   "source": [
    "name = geofile['features'][0]['properties']['name']\n",
    "name"
   ]
  },
  {
   "cell_type": "code",
   "execution_count": 7,
   "metadata": {},
   "outputs": [
    {
     "data": {
      "text/plain": [
       "array([[23.55471296, 35.60761354],\n",
       "       [23.55471296, 34.89248637],\n",
       "       [26.30261409, 34.89248637],\n",
       "       [26.30261409, 35.60761354],\n",
       "       [23.55471296, 35.60761354]])"
      ]
     },
     "execution_count": 7,
     "metadata": {},
     "output_type": "execute_result"
    }
   ],
   "source": [
    "G = np.array(geofile['features'][0]['geometry']['coordinates'][0])\n",
    "G"
   ]
  },
  {
   "attachments": {},
   "cell_type": "markdown",
   "metadata": {},
   "source": [
    "On va maintenant chercher les coins de notre rectangle. Attention à ne pas intervertir longitude et latitude. Pour cela je vous propose de regarder un rectangle que vous caisssez bien, avec l'Ile de France par exemple, on ne peut pas se tromper."
   ]
  },
  {
   "cell_type": "code",
   "execution_count": 8,
   "id": "c1fcbcb6",
   "metadata": {},
   "outputs": [
    {
     "data": {
      "text/plain": [
       "(34.89248636947745, 23.554712962096346)"
      ]
     },
     "execution_count": 8,
     "metadata": {},
     "output_type": "execute_result"
    }
   ],
   "source": [
    "lon0, lat0 = G.min(axis=0)\n",
    "lat0, lon0"
   ]
  },
  {
   "cell_type": "code",
   "execution_count": 9,
   "id": "884954c4",
   "metadata": {},
   "outputs": [
    {
     "data": {
      "text/plain": [
       "(35.607613541778534, 26.302614086102693)"
      ]
     },
     "execution_count": 9,
     "metadata": {},
     "output_type": "execute_result"
    }
   ],
   "source": [
    "lon1, lat1 = G.max(axis=0)\n",
    "lat1, lon1"
   ]
  },
  {
   "attachments": {},
   "cell_type": "markdown",
   "metadata": {},
   "source": [
    "Finalement vous pouvez créer votre zone comme un dictionnaire."
   ]
  },
  {
   "cell_type": "code",
   "execution_count": 10,
   "id": "16b88c58",
   "metadata": {},
   "outputs": [
    {
     "data": {
      "text/plain": [
       "{'name': 'Chypre',\n",
       " 'bbox': [34.89248636947745,\n",
       "  23.554712962096346,\n",
       "  35.607613541778534,\n",
       "  26.302614086102693]}"
      ]
     },
     "execution_count": 10,
     "metadata": {},
     "output_type": "execute_result"
    }
   ],
   "source": [
    "zone = dict(name=geofile['features'][0]['properties']['name'], bbox=[lat0, lon0, lat1, lon1])\n",
    "zone"
   ]
  },
  {
   "attachments": {},
   "cell_type": "markdown",
   "metadata": {},
   "source": [
    "### 1.2 Création d'une première fonction.\n",
    "\n",
    "Le code que nous venons de créer peut s'automatiser. On va créer une fonction `getzone()` qui va prendre l'objet copié depuis geojson.io et renvoie la zone en question.\n",
    "\n",
    "    def getzone(geofile):\n",
    "        ...\n",
    "        return zone\n",
    "\n",
    "Cette fonction va être placée dans le module \"geozone.py\" mais vous pouvez déjà la mettre en oeuvre interactivement dans ce notebook."
   ]
  },
  {
   "cell_type": "code",
   "execution_count": 11,
   "metadata": {},
   "outputs": [],
   "source": [
    "def getzone(geolist):\n",
    "    \n",
    "    G0 = geolist['features'][0]\n",
    "\n",
    "    # Récupération du nom de la zone.\n",
    "    if 'name' in G0['properties']:\n",
    "        name = G0['properties']['name']\n",
    "    else:\n",
    "        name = f\"Geozone [{lat0:.1f},{lon0:.1f},{lat1:.1f},{lon1:.1f}]\"\n",
    "\n",
    "    G = np.array(G0['geometry']['coordinates'][0])\n",
    "    lon0,lat0 = G.min(axis=0)\n",
    "    lon1,lat1 = G.max(axis=0)\n",
    "    zone = dict(\n",
    "        name = name,\n",
    "        bbox = [lat0, lon0, lat1, lon1]\n",
    "    )\n",
    "    return zone"
   ]
  },
  {
   "attachments": {},
   "cell_type": "markdown",
   "metadata": {},
   "source": [
    "Maintenant il faut tester si cette fonction marche bien."
   ]
  },
  {
   "cell_type": "code",
   "execution_count": 12,
   "metadata": {},
   "outputs": [
    {
     "data": {
      "text/plain": [
       "{'name': 'Chypre',\n",
       " 'bbox': [34.89248636947745,\n",
       "  23.554712962096346,\n",
       "  35.607613541778534,\n",
       "  26.302614086102693]}"
      ]
     },
     "execution_count": 12,
     "metadata": {},
     "output_type": "execute_result"
    }
   ],
   "source": [
    "getzone(geofile)"
   ]
  },
  {
   "attachments": {},
   "cell_type": "markdown",
   "metadata": {},
   "source": [
    "Vous recopirez cette fonction au module \"geozone\" en rajoutant un paramètre `i` supplémentaire pour aller chercher chacune des zones de la liste fournie en argument.\n",
    "\n",
    "    def getzone(geolist, i=0):\n",
    "        ...\n",
    "\n",
    "On force la valeur du paramètre `i` à 0, comme ça on peut toujours utiliser la fonction avec un seul argument.\n",
    "\n",
    "<mark>N'oubliez pas d'importer le package.</mark>"
   ]
  },
  {
   "cell_type": "code",
   "execution_count": 13,
   "metadata": {},
   "outputs": [],
   "source": [
    "# On importe la package satellite.\n",
    "import satellite as sat"
   ]
  },
  {
   "cell_type": "code",
   "execution_count": 14,
   "metadata": {},
   "outputs": [
    {
     "data": {
      "text/plain": [
       "{'name': 'Chypre',\n",
       " 'bbox': [34.89248636947745,\n",
       "  23.554712962096346,\n",
       "  35.607613541778534,\n",
       "  26.302614086102693]}"
      ]
     },
     "execution_count": 14,
     "metadata": {},
     "output_type": "execute_result"
    }
   ],
   "source": [
    "# On teste la fonction programmée dans le package.\n",
    "sat.geozone.getzone(geofile)"
   ]
  },
  {
   "attachments": {},
   "cell_type": "markdown",
   "metadata": {},
   "source": [
    "Pour que la fonction soit plus facile d'accès on rajoute `getzone` à l'import de \"geozone\" dans \"__init__.py\".\n",
    "\n",
    "    from .geozone import getzone, EARTHDIR"
   ]
  },
  {
   "cell_type": "code",
   "execution_count": 15,
   "metadata": {},
   "outputs": [
    {
     "data": {
      "text/plain": [
       "{'name': 'Chypre',\n",
       " 'bbox': [34.89248636947745,\n",
       "  23.554712962096346,\n",
       "  35.607613541778534,\n",
       "  26.302614086102693]}"
      ]
     },
     "execution_count": 15,
     "metadata": {},
     "output_type": "execute_result"
    }
   ],
   "source": [
    "# On teste notre facilité d'import.\n",
    "sat.getzone(geofile)"
   ]
  },
  {
   "attachments": {},
   "cell_type": "markdown",
   "metadata": {},
   "source": [
    "### 1.3 Gestion des erreurs.\n",
    "\n",
    "Quand on écrit un package, il faut faire attention à ne pas risquer de produire des erreurs incontrôlées. On va donc ajouter quelques éléments de gestion d'erreur à notre fonction.\n",
    "\n",
    "Python gère les erreurs à l'aide d'exceptions. Plusieurs types d'exceptions sont disponibles (voir la documentation de Python sur les <mark>Exceptions</mark>)\n",
    "\n",
    "> [Built-in Exceptions](https://docs.python.org/3/library/exceptions.html#base-classes)\n",
    "\n",
    "Il est possible de créer des exceptions en exécutant par exemple un appel à l'instruction `assert`, mais cela génère une `AssertionError` qui reste assez générique. On peut aussi vouloir créer sa propre execption et dans ce cas on va dériver une classe exception et fabriquer la notre.\n",
    "\n",
    "Dans notre cas on va créer une classe dérivée de `ValueError` qui est une exception assez standard quand on a un problème du aux données d'entrée d'une fonction.\n",
    "\n",
    "Vous rajouterez la création d'une classe spécifique `GeofileException` au module geozone qui dérive de `ValueError`. Comme cette Exception se comporte exactement comme `ValueError` il n'y a rien d'autre à faire qu'à la déclarer. Quand elle sera lancée on verra tout de suite si l'erreur vient de l'objet.\n",
    "\n",
    "Pour exécuter une exception on utilise la commande `raise`."
   ]
  },
  {
   "cell_type": "code",
   "execution_count": 16,
   "metadata": {},
   "outputs": [
    {
     "ename": "GeofileException",
     "evalue": "Un essai.",
     "output_type": "error",
     "traceback": [
      "\u001b[0;31m---------------------------------------------------------------------------\u001b[0m",
      "\u001b[0;31mGeofileException\u001b[0m                          Traceback (most recent call last)",
      "\u001b[0;32m<ipython-input-16-8e78c6f58088>\u001b[0m in \u001b[0;36m<module>\u001b[0;34m\u001b[0m\n\u001b[0;32m----> 1\u001b[0;31m \u001b[0;32mraise\u001b[0m \u001b[0msat\u001b[0m\u001b[0;34m.\u001b[0m\u001b[0mgeozone\u001b[0m\u001b[0;34m.\u001b[0m\u001b[0mGeofileException\u001b[0m\u001b[0;34m(\u001b[0m\u001b[0;34m\"Un essai.\"\u001b[0m\u001b[0;34m)\u001b[0m\u001b[0;34m\u001b[0m\u001b[0;34m\u001b[0m\u001b[0m\n\u001b[0m",
      "\u001b[0;31mGeofileException\u001b[0m: Un essai."
     ]
    }
   ],
   "source": [
    "raise sat.geozone.GeofileException(\"Un essai.\")"
   ]
  },
  {
   "attachments": {},
   "cell_type": "markdown",
   "metadata": {},
   "source": [
    "Nous utilisezons cette exception pour tester l'existance des clés 'properties', 'geometry' et 'coordinates' dans le paramètre envoyé en entrée.\n",
    "\n",
    "Ci-dessous j'ai remplacé la clé 'geometry' par 'geometrie', et je teste si mon code réagit bien."
   ]
  },
  {
   "cell_type": "code",
   "execution_count": 17,
   "metadata": {},
   "outputs": [],
   "source": [
    "badgeofile = {\n",
    "  \"type\": \"FeatureCollection\",\n",
    "  \"features\": [\n",
    "    {\n",
    "      \"type\": \"Feature\",\n",
    "      \"properties\": {'name' : 'Chypre'},\n",
    "      \"geometrie\": {\n",
    "        \"coordinates\": [\n",
    "          [\n",
    "            [\n",
    "              23.554712962096346,\n",
    "              35.607613541778534\n",
    "            ],\n",
    "            [\n",
    "              23.554712962096346,\n",
    "              34.89248636947745\n",
    "            ],\n",
    "            [\n",
    "              26.302614086102693,\n",
    "              34.89248636947745\n",
    "            ],\n",
    "            [\n",
    "              26.302614086102693,\n",
    "              35.607613541778534\n",
    "            ],\n",
    "            [\n",
    "              23.554712962096346,\n",
    "              35.607613541778534\n",
    "            ]\n",
    "          ]\n",
    "        ],\n",
    "        \"type\": \"Polygon\"\n",
    "      }\n",
    "    }\n",
    "  ]\n",
    "}"
   ]
  },
  {
   "cell_type": "code",
   "execution_count": 18,
   "metadata": {},
   "outputs": [
    {
     "ename": "GeofileException",
     "evalue": "No geometry in geolist[0].",
     "output_type": "error",
     "traceback": [
      "\u001b[0;31m---------------------------------------------------------------------------\u001b[0m",
      "\u001b[0;31mGeofileException\u001b[0m                          Traceback (most recent call last)",
      "\u001b[0;32m<ipython-input-18-0b0ee74eeab5>\u001b[0m in \u001b[0;36m<module>\u001b[0;34m\u001b[0m\n\u001b[0;32m----> 1\u001b[0;31m \u001b[0msat\u001b[0m\u001b[0;34m.\u001b[0m\u001b[0mgetzone\u001b[0m\u001b[0;34m(\u001b[0m\u001b[0mbadgeofile\u001b[0m\u001b[0;34m)\u001b[0m\u001b[0;34m\u001b[0m\u001b[0;34m\u001b[0m\u001b[0m\n\u001b[0m",
      "\u001b[0;32m~/wrk0/satellite/geozone.py\u001b[0m in \u001b[0;36mgetzone\u001b[0;34m(geolist, i)\u001b[0m\n\u001b[1;32m     51\u001b[0m         \u001b[0;32mraise\u001b[0m \u001b[0mGeofileException\u001b[0m\u001b[0;34m(\u001b[0m\u001b[0;34mf\"No properties in geolist[{i}].\"\u001b[0m\u001b[0;34m)\u001b[0m\u001b[0;34m\u001b[0m\u001b[0;34m\u001b[0m\u001b[0m\n\u001b[1;32m     52\u001b[0m     \u001b[0;32mif\u001b[0m \u001b[0;34m'geometry'\u001b[0m \u001b[0;32mnot\u001b[0m \u001b[0;32min\u001b[0m \u001b[0mG0\u001b[0m\u001b[0;34m:\u001b[0m\u001b[0;34m\u001b[0m\u001b[0;34m\u001b[0m\u001b[0m\n\u001b[0;32m---> 53\u001b[0;31m         \u001b[0;32mraise\u001b[0m \u001b[0mGeofileException\u001b[0m\u001b[0;34m(\u001b[0m\u001b[0;34mf\"No geometry in geolist[{i}].\"\u001b[0m\u001b[0;34m)\u001b[0m\u001b[0;34m\u001b[0m\u001b[0;34m\u001b[0m\u001b[0m\n\u001b[0m\u001b[1;32m     54\u001b[0m     \u001b[0;32mif\u001b[0m \u001b[0;34m'coordinates'\u001b[0m \u001b[0;32mnot\u001b[0m \u001b[0;32min\u001b[0m \u001b[0mG0\u001b[0m\u001b[0;34m[\u001b[0m\u001b[0;34m'geometry'\u001b[0m\u001b[0;34m]\u001b[0m\u001b[0;34m:\u001b[0m\u001b[0;34m\u001b[0m\u001b[0;34m\u001b[0m\u001b[0m\n\u001b[1;32m     55\u001b[0m         \u001b[0;32mraise\u001b[0m \u001b[0mGeofileException\u001b[0m\u001b[0;34m(\u001b[0m\u001b[0;34mf\"No coordinates in geolist[{i}]['geometry].\"\u001b[0m\u001b[0;34m)\u001b[0m\u001b[0;34m\u001b[0m\u001b[0;34m\u001b[0m\u001b[0m\n",
      "\u001b[0;31mGeofileException\u001b[0m: No geometry in geolist[0]."
     ]
    }
   ],
   "source": [
    "sat.getzone(badgeofile)"
   ]
  },
  {
   "attachments": {},
   "cell_type": "markdown",
   "metadata": {},
   "source": [
    "C'est plus clair ! On voit tout de suite que c'est un problème d'entrée."
   ]
  },
  {
   "attachments": {},
   "cell_type": "markdown",
   "metadata": {},
   "source": [
    "Si on veut tester qu'un argument entier est bien dans les bornes attendues, ce que l'on fait en général c'es appeler directement `assert()`.\n",
    "C'est ce que l'on va faire pour vérifier si l'entier passé est bien entre 0 et la longeur de la liste de zones géographiques donnés en entrée."
   ]
  },
  {
   "cell_type": "code",
   "execution_count": 19,
   "metadata": {},
   "outputs": [
    {
     "ename": "AssertionError",
     "evalue": "Le numéro de zone doit être positif.",
     "output_type": "error",
     "traceback": [
      "\u001b[0;31m---------------------------------------------------------------------------\u001b[0m",
      "\u001b[0;31mAssertionError\u001b[0m                            Traceback (most recent call last)",
      "\u001b[0;32m<ipython-input-19-8ce38ebf1784>\u001b[0m in \u001b[0;36m<module>\u001b[0;34m\u001b[0m\n\u001b[0;32m----> 1\u001b[0;31m \u001b[0msat\u001b[0m\u001b[0;34m.\u001b[0m\u001b[0mgetzone\u001b[0m\u001b[0;34m(\u001b[0m\u001b[0mgeofile\u001b[0m\u001b[0;34m,\u001b[0m\u001b[0;34m-\u001b[0m\u001b[0;36m1\u001b[0m\u001b[0;34m)\u001b[0m\u001b[0;34m\u001b[0m\u001b[0;34m\u001b[0m\u001b[0m\n\u001b[0m",
      "\u001b[0;32m~/wrk0/satellite/geozone.py\u001b[0m in \u001b[0;36mgetzone\u001b[0;34m(geolist, i)\u001b[0m\n\u001b[1;32m     42\u001b[0m     \u001b[0mn\u001b[0m \u001b[0;34m=\u001b[0m \u001b[0mlen\u001b[0m\u001b[0;34m(\u001b[0m\u001b[0mgeolist\u001b[0m\u001b[0;34m[\u001b[0m\u001b[0;34m'features'\u001b[0m\u001b[0;34m]\u001b[0m\u001b[0;34m)\u001b[0m\u001b[0;34m\u001b[0m\u001b[0;34m\u001b[0m\u001b[0m\n\u001b[1;32m     43\u001b[0m     \u001b[0msz\u001b[0m \u001b[0;34m=\u001b[0m \u001b[0;34m\"zones\"\u001b[0m \u001b[0;32mif\u001b[0m \u001b[0mn\u001b[0m\u001b[0;34m>\u001b[0m\u001b[0;36m1\u001b[0m \u001b[0;32melse\u001b[0m \u001b[0;34m\"zone\"\u001b[0m\u001b[0;34m\u001b[0m\u001b[0;34m\u001b[0m\u001b[0m\n\u001b[0;32m---> 44\u001b[0;31m     \u001b[0;32massert\u001b[0m \u001b[0mi\u001b[0m\u001b[0;34m>=\u001b[0m\u001b[0;36m0\u001b[0m\u001b[0;34m,\u001b[0m \u001b[0;34m\"Le numéro de zone doit être positif.\"\u001b[0m\u001b[0;34m\u001b[0m\u001b[0;34m\u001b[0m\u001b[0m\n\u001b[0m\u001b[1;32m     45\u001b[0m     \u001b[0;32massert\u001b[0m \u001b[0mi\u001b[0m\u001b[0;34m<\u001b[0m\u001b[0mn\u001b[0m\u001b[0;34m,\u001b[0m \u001b[0;34mf\"La liste ne contient que {n} {sz}.\"\u001b[0m\u001b[0;34m\u001b[0m\u001b[0;34m\u001b[0m\u001b[0m\n\u001b[1;32m     46\u001b[0m \u001b[0;34m\u001b[0m\u001b[0m\n",
      "\u001b[0;31mAssertionError\u001b[0m: Le numéro de zone doit être positif."
     ]
    }
   ],
   "source": [
    "sat.getzone(geofile,-1)"
   ]
  },
  {
   "cell_type": "code",
   "execution_count": 20,
   "metadata": {},
   "outputs": [
    {
     "ename": "AssertionError",
     "evalue": "La liste ne contient que 1 zone.",
     "output_type": "error",
     "traceback": [
      "\u001b[0;31m---------------------------------------------------------------------------\u001b[0m",
      "\u001b[0;31mAssertionError\u001b[0m                            Traceback (most recent call last)",
      "\u001b[0;32m<ipython-input-20-981e8b6d78ff>\u001b[0m in \u001b[0;36m<module>\u001b[0;34m\u001b[0m\n\u001b[0;32m----> 1\u001b[0;31m \u001b[0msat\u001b[0m\u001b[0;34m.\u001b[0m\u001b[0mgetzone\u001b[0m\u001b[0;34m(\u001b[0m\u001b[0mgeofile\u001b[0m\u001b[0;34m,\u001b[0m\u001b[0;36m3\u001b[0m\u001b[0;34m)\u001b[0m\u001b[0;34m\u001b[0m\u001b[0;34m\u001b[0m\u001b[0m\n\u001b[0m",
      "\u001b[0;32m~/wrk0/satellite/geozone.py\u001b[0m in \u001b[0;36mgetzone\u001b[0;34m(geolist, i)\u001b[0m\n\u001b[1;32m     43\u001b[0m     \u001b[0msz\u001b[0m \u001b[0;34m=\u001b[0m \u001b[0;34m\"zones\"\u001b[0m \u001b[0;32mif\u001b[0m \u001b[0mn\u001b[0m\u001b[0;34m>\u001b[0m\u001b[0;36m1\u001b[0m \u001b[0;32melse\u001b[0m \u001b[0;34m\"zone\"\u001b[0m\u001b[0;34m\u001b[0m\u001b[0;34m\u001b[0m\u001b[0m\n\u001b[1;32m     44\u001b[0m     \u001b[0;32massert\u001b[0m \u001b[0mi\u001b[0m\u001b[0;34m>=\u001b[0m\u001b[0;36m0\u001b[0m\u001b[0;34m,\u001b[0m \u001b[0;34m\"Le numéro de zone doit être positif.\"\u001b[0m\u001b[0;34m\u001b[0m\u001b[0;34m\u001b[0m\u001b[0m\n\u001b[0;32m---> 45\u001b[0;31m     \u001b[0;32massert\u001b[0m \u001b[0mi\u001b[0m\u001b[0;34m<\u001b[0m\u001b[0mn\u001b[0m\u001b[0;34m,\u001b[0m \u001b[0;34mf\"La liste ne contient que {n} {sz}.\"\u001b[0m\u001b[0;34m\u001b[0m\u001b[0;34m\u001b[0m\u001b[0m\n\u001b[0m\u001b[1;32m     46\u001b[0m \u001b[0;34m\u001b[0m\u001b[0m\n\u001b[1;32m     47\u001b[0m     \u001b[0mG0\u001b[0m \u001b[0;34m=\u001b[0m \u001b[0mgeolist\u001b[0m\u001b[0;34m[\u001b[0m\u001b[0;34m'features'\u001b[0m\u001b[0;34m]\u001b[0m\u001b[0;34m[\u001b[0m\u001b[0mi\u001b[0m\u001b[0;34m]\u001b[0m\u001b[0;34m\u001b[0m\u001b[0;34m\u001b[0m\u001b[0m\n",
      "\u001b[0;31mAssertionError\u001b[0m: La liste ne contient que 1 zone."
     ]
    }
   ],
   "source": [
    "sat.getzone(geofile,3)"
   ]
  },
  {
   "attachments": {},
   "cell_type": "markdown",
   "metadata": {},
   "source": [
    "**Astuce** : J'ai utilisé l'opérateur ternaire pour m'assure que \"zone\" sera au singulier si le nombres de zones est inféreiyer ou égal à 1 et au pluriel sinon.\n",
    "\n",
    "    n = len(geolist['features'])\n",
    "    sz = \"zones\" if n>1 else \"zone\""
   ]
  },
  {
   "attachments": {},
   "cell_type": "markdown",
   "metadata": {},
   "source": [
    "**Et si on avait oublié le nom ?**\n",
    "Vous vous souvenez que j'avais proposé de rajouter le nom de votre zone dans le champ \"properties\". On ne va toute de même pas créer une erreur à cause de cela, je vous propose dans le cas d'un nom absent de créer un texte à partir des coordonnées.\n"
   ]
  },
  {
   "cell_type": "code",
   "execution_count": 21,
   "metadata": {},
   "outputs": [],
   "source": [
    "notnamedgeofile = {\n",
    "  \"type\": \"FeatureCollection\",\n",
    "  \"features\": [\n",
    "    {\n",
    "      \"type\": \"Feature\",\n",
    "      \"properties\": {},\n",
    "      \"geometry\": {\n",
    "        \"coordinates\": [\n",
    "          [\n",
    "            [\n",
    "              23.554712962096346,\n",
    "              35.607613541778534\n",
    "            ],\n",
    "            [\n",
    "              23.554712962096346,\n",
    "              34.89248636947745\n",
    "            ],\n",
    "            [\n",
    "              26.302614086102693,\n",
    "              34.89248636947745\n",
    "            ],\n",
    "            [\n",
    "              26.302614086102693,\n",
    "              35.607613541778534\n",
    "            ],\n",
    "            [\n",
    "              23.554712962096346,\n",
    "              35.607613541778534\n",
    "            ]\n",
    "          ]\n",
    "        ],\n",
    "        \"type\": \"Polygon\"\n",
    "      }\n",
    "    }\n",
    "  ]\n",
    "}"
   ]
  },
  {
   "attachments": {},
   "cell_type": "markdown",
   "metadata": {},
   "source": [
    "On essaue de se limiter à une seule valeur après la virgule."
   ]
  },
  {
   "cell_type": "code",
   "execution_count": 22,
   "metadata": {},
   "outputs": [
    {
     "data": {
      "text/plain": [
       "{'name': 'Geozone [34.9,23.6,35.6,26.3]',\n",
       " 'bbox': [34.89248636947745,\n",
       "  23.554712962096346,\n",
       "  35.607613541778534,\n",
       "  26.302614086102693]}"
      ]
     },
     "execution_count": 22,
     "metadata": {},
     "output_type": "execute_result"
    }
   ],
   "source": [
    "sat.getzone(notnamedgeofile)"
   ]
  },
  {
   "attachments": {},
   "cell_type": "markdown",
   "metadata": {},
   "source": [
    "### 1.4 Gestion d'une liste de zones géographiques.\n",
    "\n",
    "Maintenant nous allons profiter d'une fonction sympatique de [geozone.io](https://geojson.io/) qui nous permet de sélectionner en une seule fois plusieurs zones. Une fois que c'est fait enregistrez le fichier. Par défaut, il s'appelle \"map.geojson\".\n",
    "\n",
    "Je vous propose de placer ce fichier dans le sous-répertoire pointé par EARTHDIR.\n",
    "\n",
    "Créez cette fois une nouvelle fonction `zonelist()` qui renvoie la liste de toutes les zones du fichier. Par défaut, cette fonction av chercher le fichier dans EARTHDIR, et prend \"map.geojson\" comme valeur par défaut.\n",
    "\n",
    "    def zonelist(geomap  \"map.geojson\")"
   ]
  },
  {
   "attachments": {},
   "cell_type": "markdown",
   "metadata": {},
   "source": [
    "Pour commencer il faut convertir le fichier \"map.geojson\" en un dictionnaire. Le plus simple est d'utiliser le module json de Python."
   ]
  },
  {
   "cell_type": "code",
   "execution_count": 23,
   "metadata": {},
   "outputs": [],
   "source": [
    "import os,json"
   ]
  },
  {
   "cell_type": "code",
   "execution_count": 24,
   "metadata": {},
   "outputs": [
    {
     "data": {
      "text/plain": [
       "'/Users/holie/wrk0/satellite/data/zones/_Earth/map.geojson'"
      ]
     },
     "execution_count": 24,
     "metadata": {},
     "output_type": "execute_result"
    }
   ],
   "source": [
    "geomapfile = os.path.join(sat.EARTHDIR,'map.geojson')\n",
    "geomapfile"
   ]
  },
  {
   "attachments": {},
   "cell_type": "markdown",
   "metadata": {},
   "source": [
    "Je préfère toujours utiliser l'instruction `with` pour gerer proprement les ressoures."
   ]
  },
  {
   "cell_type": "code",
   "execution_count": 25,
   "metadata": {},
   "outputs": [
    {
     "data": {
      "text/plain": [
       "{'type': 'FeatureCollection',\n",
       " 'features': [{'type': 'Feature',\n",
       "   'properties': {'name': 'Ile de France'},\n",
       "   'geometry': {'coordinates': [[[2.0085203859495095, 48.99193420772434],\n",
       "      [2.0085203859495095, 48.7535883521073],\n",
       "      [2.6788390690815334, 48.7535883521073],\n",
       "      [2.6788390690815334, 48.99193420772434],\n",
       "      [2.0085203859495095, 48.99193420772434]]],\n",
       "    'type': 'Polygon'}},\n",
       "  {'type': 'Feature',\n",
       "   'properties': {'name': 'Barcelone'},\n",
       "   'geometry': {'coordinates': [[[1.6649881237897546, 41.63394152808198],\n",
       "      [1.6649881237897546, 41.22007856049126],\n",
       "      [2.4690345841926273, 41.22007856049126],\n",
       "      [2.4690345841926273, 41.63394152808198],\n",
       "      [1.6649881237897546, 41.63394152808198]]],\n",
       "    'type': 'Polygon'}},\n",
       "  {'type': 'Feature',\n",
       "   'properties': {'name': 'Chypre'},\n",
       "   'geometry': {'coordinates': [[[23.397028867484522, 35.631415093017225],\n",
       "      [23.397028867484522, 34.85709260445668],\n",
       "      [26.44578481885614, 34.85709260445668],\n",
       "      [26.44578481885614, 35.631415093017225],\n",
       "      [23.397028867484522, 35.631415093017225]]],\n",
       "    'type': 'Polygon'}}]}"
      ]
     },
     "execution_count": 25,
     "metadata": {},
     "output_type": "execute_result"
    }
   ],
   "source": [
    "with open(geomapfile) as g:\n",
    "    geolist = json.load(g)\n",
    "geolist"
   ]
  },
  {
   "attachments": {},
   "cell_type": "markdown",
   "metadata": {},
   "source": [
    "Voila ! Vous avez ce qu'il faut pour rajouter `zonelist()` à \"geozone\". N'oubliez pas la gestion des erreurs."
   ]
  },
  {
   "cell_type": "code",
   "execution_count": 26,
   "metadata": {},
   "outputs": [
    {
     "data": {
      "text/plain": [
       "[{'name': 'Ile de France',\n",
       "  'bbox': [48.7535883521073,\n",
       "   2.0085203859495095,\n",
       "   48.99193420772434,\n",
       "   2.6788390690815334]},\n",
       " {'name': 'Barcelone',\n",
       "  'bbox': [41.22007856049126,\n",
       "   1.6649881237897546,\n",
       "   41.63394152808198,\n",
       "   2.4690345841926273]},\n",
       " {'name': 'Chypre',\n",
       "  'bbox': [34.85709260445668,\n",
       "   23.397028867484522,\n",
       "   35.631415093017225,\n",
       "   26.44578481885614]}]"
      ]
     },
     "execution_count": 26,
     "metadata": {},
     "output_type": "execute_result"
    }
   ],
   "source": [
    "Z = sat.zonelist()\n",
    "Z"
   ]
  },
  {
   "attachments": {},
   "cell_type": "markdown",
   "metadata": {},
   "source": [
    "## 2. Construction d'une classe\n",
    "\n",
    "Maintenant nous allons regrouper tout ce que nous avons appris pour faire une classe `GeoZone` initialisée avec un gichier \"map.geojson\".\n",
    "\n",
    "Cette classe doit avoir les fonctions suivante.\n",
    "\n",
    "* S'initialiser par \"map.gojson\".\n",
    "\n",
    "        gz = Geozone()\n",
    "\n",
    "* Renvoyer sa longeur\n",
    "    \n",
    "        len(gz)\n",
    "\n",
    "* Iterer sur les zones\n",
    "    \n",
    "        for z in gz:\n",
    "            ...\n",
    "\n",
    "* Accéder à une zone par indexation.\n",
    "    \n",
    "        z = gz[2]\n"
   ]
  }
 ],
 "metadata": {
  "kernelspec": {
   "display_name": "gd39",
   "language": "python",
   "name": "python3"
  },
  "language_info": {
   "codemirror_mode": {
    "name": "ipython",
    "version": 3
   },
   "file_extension": ".py",
   "mimetype": "text/x-python",
   "name": "python",
   "nbconvert_exporter": "python",
   "pygments_lexer": "ipython3",
   "version": "3.9.4"
  },
  "orig_nbformat": 4,
  "vscode": {
   "interpreter": {
    "hash": "a6d3978fac2f94b35773b9c8291412caf0c75e33fb63611a5c71fe933d8c7105"
   }
  }
 },
 "nbformat": 4,
 "nbformat_minor": 2
}

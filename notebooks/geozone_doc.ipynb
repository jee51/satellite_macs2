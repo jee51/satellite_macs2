{
 "cells": [
  {
   "attachments": {},
   "cell_type": "markdown",
   "metadata": {},
   "source": [
    "# Test des fonctions d'accès aux données optiques.\n",
    "\n",
    "_Version 1.0 [31/01/2023] Jérôme Lacaille_"
   ]
  },
  {
   "cell_type": "code",
   "execution_count": 1,
   "metadata": {},
   "outputs": [],
   "source": [
    "import matplotlib.pyplot as plt\n",
    "\n",
    "%matplotlib inline\n",
    "\n",
    "plt.rcParams[\"figure.figsize\"] = (9,6) # Pour l'affichage d'images un peu plus grandes."
   ]
  },
  {
   "cell_type": "code",
   "execution_count": 53,
   "metadata": {},
   "outputs": [],
   "source": [
    "# Ce bout de code est pratique car il permet de recharger automatiquement un package quand vous le développez.\n",
    "%reload_ext autoreload\n",
    "%autoreload 2"
   ]
  },
  {
   "attachments": {},
   "cell_type": "markdown",
   "metadata": {},
   "source": [
    "## 1. Gestion des zones géographiques.\n",
    "\n",
    "Nous allons d'abord créer des fichiers de zones géographiques correspondant à des \"rectangles\" en latitude et longitudes.\n",
    "Ce que l'on souhaite c'est pouvoir manipuler des dictionnaires avec deux composantes : un nom et les coordonnées du rectangle :\n",
    "\n",
    "    {\n",
    "        'name' : \"Le nom de la zone\",\n",
    "        'bbox' : [lat_min, lon_min, lat_max, lon_max]\n",
    "    }\n",
    "\n",
    "Ensuite on va récupérer automatiquement ces rectangles depuis un site spécialisé et créer un nouvel objet Python capable de gérer ces listes."
   ]
  },
  {
   "attachments": {},
   "cell_type": "markdown",
   "id": "tough-combat",
   "metadata": {},
   "source": [
    "### 1.1 Etude d'une zone géographique.\n",
    "En utilisant le site [geozone.io](https://geojson.io/) on peut créer facilement des GEOFILES qui contiennet des informations sur la latitude et la longitude de zones rectangulaires.\n",
    "\n",
    "Un bouton vous permet de copier facilement un descriptif json (geojson en fait) et le copier directement dans une cellule comme un dictionnaire."
   ]
  },
  {
   "cell_type": "code",
   "execution_count": 2,
   "metadata": {},
   "outputs": [],
   "source": [
    "geofile = {\n",
    "  \"type\": \"FeatureCollection\",\n",
    "  \"features\": [\n",
    "    {\n",
    "      \"type\": \"Feature\",\n",
    "      \"properties\": {'name' : 'Chypre'},\n",
    "      \"geometry\": {\n",
    "        \"coordinates\": [\n",
    "          [\n",
    "            [\n",
    "              23.554712962096346,\n",
    "              35.607613541778534\n",
    "            ],\n",
    "            [\n",
    "              23.554712962096346,\n",
    "              34.89248636947745\n",
    "            ],\n",
    "            [\n",
    "              26.302614086102693,\n",
    "              34.89248636947745\n",
    "            ],\n",
    "            [\n",
    "              26.302614086102693,\n",
    "              35.607613541778534\n",
    "            ],\n",
    "            [\n",
    "              23.554712962096346,\n",
    "              35.607613541778534\n",
    "            ]\n",
    "          ]\n",
    "        ],\n",
    "        \"type\": \"Polygon\"\n",
    "      }\n",
    "    }\n",
    "  ]\n",
    "}"
   ]
  },
  {
   "attachments": {},
   "cell_type": "markdown",
   "id": "67fb12d7",
   "metadata": {},
   "source": [
    "Pour mieux gérer vos zones géographiques (geozones) je vous propose de rajouter un champ 'name' aux propriétés. Vous verrez que cela nous facilitera le travail par la suite.\n",
    "\n",
    "          \"properties\": {'name' : 'Chypre'},"
   ]
  },
  {
   "cell_type": "code",
   "execution_count": 5,
   "id": "f1c7b280",
   "metadata": {},
   "outputs": [],
   "source": [
    "# On va avoir besoin de numpy pour gérer les coordinnées.\n",
    "import numpy as np"
   ]
  },
  {
   "attachments": {},
   "cell_type": "markdown",
   "metadata": {},
   "source": [
    "On va maintenant récupérer le nom et les coordonnées."
   ]
  },
  {
   "cell_type": "code",
   "execution_count": 6,
   "metadata": {},
   "outputs": [
    {
     "data": {
      "text/plain": [
       "'Chypre'"
      ]
     },
     "execution_count": 6,
     "metadata": {},
     "output_type": "execute_result"
    }
   ],
   "source": [
    "name = geofile['features'][0]['properties']['name']\n",
    "name"
   ]
  },
  {
   "cell_type": "code",
   "execution_count": 7,
   "metadata": {},
   "outputs": [
    {
     "data": {
      "text/plain": [
       "array([[23.55471296, 35.60761354],\n",
       "       [23.55471296, 34.89248637],\n",
       "       [26.30261409, 34.89248637],\n",
       "       [26.30261409, 35.60761354],\n",
       "       [23.55471296, 35.60761354]])"
      ]
     },
     "execution_count": 7,
     "metadata": {},
     "output_type": "execute_result"
    }
   ],
   "source": [
    "G = np.array(geofile['features'][0]['geometry']['coordinates'][0])\n",
    "G"
   ]
  },
  {
   "attachments": {},
   "cell_type": "markdown",
   "metadata": {},
   "source": [
    "On va maintenant chercher les coins de notre rectangle. Attention à ne pas intervertir longitude et latitude. Pour cela je vous propose de regarder un rectangle que vous caisssez bien, avec l'Ile de France par exemple, on ne peut pas se tromper."
   ]
  },
  {
   "cell_type": "code",
   "execution_count": 8,
   "id": "c1fcbcb6",
   "metadata": {},
   "outputs": [
    {
     "data": {
      "text/plain": [
       "(34.89248636947745, 23.554712962096346)"
      ]
     },
     "execution_count": 8,
     "metadata": {},
     "output_type": "execute_result"
    }
   ],
   "source": [
    "lon0, lat0 = G.min(axis=0)\n",
    "lat0, lon0"
   ]
  },
  {
   "cell_type": "code",
   "execution_count": 9,
   "id": "884954c4",
   "metadata": {},
   "outputs": [
    {
     "data": {
      "text/plain": [
       "(35.607613541778534, 26.302614086102693)"
      ]
     },
     "execution_count": 9,
     "metadata": {},
     "output_type": "execute_result"
    }
   ],
   "source": [
    "lon1, lat1 = G.max(axis=0)\n",
    "lat1, lon1"
   ]
  },
  {
   "attachments": {},
   "cell_type": "markdown",
   "metadata": {},
   "source": [
    "Finalement vous pouvez créer votre zone comme un dictionnaire."
   ]
  },
  {
   "cell_type": "code",
   "execution_count": 10,
   "id": "16b88c58",
   "metadata": {},
   "outputs": [
    {
     "data": {
      "text/plain": [
       "{'name': 'Chypre',\n",
       " 'bbox': [34.89248636947745,\n",
       "  23.554712962096346,\n",
       "  35.607613541778534,\n",
       "  26.302614086102693]}"
      ]
     },
     "execution_count": 10,
     "metadata": {},
     "output_type": "execute_result"
    }
   ],
   "source": [
    "zone = dict(name=geofile['features'][0]['properties']['name'], bbox=[lat0, lon0, lat1, lon1])\n",
    "zone"
   ]
  },
  {
   "attachments": {},
   "cell_type": "markdown",
   "metadata": {},
   "source": [
    "### 1.3 Création d'un package Python.\n",
    "\n",
    "Le code que nous venons de créer peut s'automatiser. je vous propose de créer un nouveau package \"satellite\" sur votre machine. Pour vous aider j'ai construit le package \"satellite_max2\" sous GitHub, donc dans un premier temps je vous propose de copier le contenu de ce package sur votre machine et de le renommer \"satellite\".\n",
    "\n",
    "1. La première étape consiste à récupérer les données. "
   ]
  },
  {
   "attachments": {},
   "cell_type": "markdown",
   "metadata": {},
   "source": [
    "### 1.2 Gestion d'une liste de zones géographiques.\n",
    "\n",
    "Maintenant nous allons profiter d'une fonction sympatique de [geozone.io](https://geojson.io/) qui nous permet de sélectionner en une seule fois plusieurs zones. Une fois que c'est fait enregistrez le fichier. Par défaut, il s'appelle \"map.geojson\"."
   ]
  },
  {
   "cell_type": "code",
   "execution_count": 55,
   "metadata": {},
   "outputs": [
    {
     "data": {
      "text/plain": [
       "[{'name': 'Ile de France',\n",
       "  'bbox': [48.7535883521073,\n",
       "   2.0085203859495095,\n",
       "   48.99193420772434,\n",
       "   2.6788390690815334]},\n",
       " {'name': 'Barcelone',\n",
       "  'bbox': [41.22007856049126,\n",
       "   1.6649881237897546,\n",
       "   41.63394152808198,\n",
       "   2.4690345841926273]},\n",
       " {'name': 'Chypre',\n",
       "  'bbox': [34.85709260445668,\n",
       "   23.397028867484522,\n",
       "   35.631415093017225,\n",
       "   26.44578481885614]}]"
      ]
     },
     "execution_count": 55,
     "metadata": {},
     "output_type": "execute_result"
    }
   ],
   "source": [
    "Z = sat.zonelist()\n",
    "Z"
   ]
  },
  {
   "cell_type": "code",
   "execution_count": 10,
   "metadata": {},
   "outputs": [
    {
     "data": {
      "text/plain": [
       "'/Users/holie/wrk0/satellite/data/zones/_Earth/map.geojson'"
      ]
     },
     "execution_count": 10,
     "metadata": {},
     "output_type": "execute_result"
    }
   ],
   "source": [
    "geomapfile = os.path.join(sat.EARTHDIR,'map.geojson')\n",
    "geomapfile"
   ]
  },
  {
   "cell_type": "code",
   "execution_count": 24,
   "metadata": {},
   "outputs": [
    {
     "data": {
      "text/html": [
       "<div>\n",
       "<style scoped>\n",
       "    .dataframe tbody tr th:only-of-type {\n",
       "        vertical-align: middle;\n",
       "    }\n",
       "\n",
       "    .dataframe tbody tr th {\n",
       "        vertical-align: top;\n",
       "    }\n",
       "\n",
       "    .dataframe thead th {\n",
       "        text-align: right;\n",
       "    }\n",
       "</style>\n",
       "<table border=\"1\" class=\"dataframe\">\n",
       "  <thead>\n",
       "    <tr style=\"text-align: right;\">\n",
       "      <th></th>\n",
       "      <th>type</th>\n",
       "      <th>features</th>\n",
       "    </tr>\n",
       "  </thead>\n",
       "  <tbody>\n",
       "    <tr>\n",
       "      <th>0</th>\n",
       "      <td>FeatureCollection</td>\n",
       "      <td>{'type': 'Feature', 'properties': {'name': 'Il...</td>\n",
       "    </tr>\n",
       "    <tr>\n",
       "      <th>1</th>\n",
       "      <td>FeatureCollection</td>\n",
       "      <td>{'type': 'Feature', 'properties': {'name': 'Ba...</td>\n",
       "    </tr>\n",
       "    <tr>\n",
       "      <th>2</th>\n",
       "      <td>FeatureCollection</td>\n",
       "      <td>{'type': 'Feature', 'properties': {'name': 'Ch...</td>\n",
       "    </tr>\n",
       "  </tbody>\n",
       "</table>\n",
       "</div>"
      ],
      "text/plain": [
       "                type                                           features\n",
       "0  FeatureCollection  {'type': 'Feature', 'properties': {'name': 'Il...\n",
       "1  FeatureCollection  {'type': 'Feature', 'properties': {'name': 'Ba...\n",
       "2  FeatureCollection  {'type': 'Feature', 'properties': {'name': 'Ch..."
      ]
     },
     "execution_count": 24,
     "metadata": {},
     "output_type": "execute_result"
    }
   ],
   "source": [
    "gdf = pd.read_json(geomapfile)\n",
    "gdf"
   ]
  },
  {
   "cell_type": "code",
   "execution_count": 15,
   "metadata": {},
   "outputs": [
    {
     "data": {
      "text/plain": [
       "{'type': 'Feature',\n",
       " 'properties': {'name': 'Ile de France'},\n",
       " 'geometry': {'coordinates': [[[2.008520385949509, 48.99193420772434],\n",
       "    [2.008520385949509, 48.7535883521073],\n",
       "    [2.678839069081533, 48.7535883521073],\n",
       "    [2.678839069081533, 48.99193420772434],\n",
       "    [2.008520385949509, 48.99193420772434]]],\n",
       "  'type': 'Polygon'}}"
      ]
     },
     "execution_count": 15,
     "metadata": {},
     "output_type": "execute_result"
    }
   ],
   "source": [
    "gdf.features[0]"
   ]
  },
  {
   "attachments": {},
   "cell_type": "markdown",
   "metadata": {},
   "source": [
    "## 1. Manipulation des zones géographiques."
   ]
  },
  {
   "cell_type": "code",
   "execution_count": 4,
   "metadata": {},
   "outputs": [],
   "source": [
    "geofile = {\n",
    "  \"type\": \"FeatureCollection\",\n",
    "  \"features\": [\n",
    "    {\n",
    "      \"type\": \"Feature\",\n",
    "      \"properties\": {'name' : 'Chypre'},\n",
    "      \"geometry\": {\n",
    "        \"coordinates\": [\n",
    "          [\n",
    "            [\n",
    "              23.554712962096346,\n",
    "              35.607613541778534\n",
    "            ],\n",
    "            [\n",
    "              23.554712962096346,\n",
    "              34.89248636947745\n",
    "            ],\n",
    "            [\n",
    "              26.302614086102693,\n",
    "              34.89248636947745\n",
    "            ],\n",
    "            [\n",
    "              26.302614086102693,\n",
    "              35.607613541778534\n",
    "            ],\n",
    "            [\n",
    "              23.554712962096346,\n",
    "              35.607613541778534\n",
    "            ]\n",
    "          ]\n",
    "        ],\n",
    "        \"type\": \"Polygon\"\n",
    "      }\n",
    "    }\n",
    "  ]\n",
    "}"
   ]
  },
  {
   "cell_type": "code",
   "execution_count": 5,
   "metadata": {},
   "outputs": [
    {
     "data": {
      "text/plain": [
       "{'name': 'Chypre',\n",
       " 'bbox': [34.89248636947745,\n",
       "  23.554712962096346,\n",
       "  35.607613541778534,\n",
       "  26.302614086102693]}"
      ]
     },
     "execution_count": 5,
     "metadata": {},
     "output_type": "execute_result"
    }
   ],
   "source": [
    "zone = sat.getzone(geofile)\n",
    "zone"
   ]
  },
  {
   "attachments": {},
   "cell_type": "markdown",
   "metadata": {},
   "source": [
    "# 2. Récupération du contenu d'une image FCOVER."
   ]
  },
  {
   "cell_type": "code",
   "execution_count": 6,
   "metadata": {},
   "outputs": [
    {
     "data": {
      "text/html": [
       "<div>\n",
       "<style scoped>\n",
       "    .dataframe tbody tr th:only-of-type {\n",
       "        vertical-align: middle;\n",
       "    }\n",
       "\n",
       "    .dataframe tbody tr th {\n",
       "        vertical-align: top;\n",
       "    }\n",
       "\n",
       "    .dataframe thead th {\n",
       "        text-align: right;\n",
       "    }\n",
       "</style>\n",
       "<table border=\"1\" class=\"dataframe\">\n",
       "  <thead>\n",
       "    <tr style=\"text-align: right;\">\n",
       "      <th></th>\n",
       "      <th>FILE</th>\n",
       "      <th>REVISION</th>\n",
       "    </tr>\n",
       "    <tr>\n",
       "      <th>DATE</th>\n",
       "      <th></th>\n",
       "      <th></th>\n",
       "    </tr>\n",
       "  </thead>\n",
       "  <tbody>\n",
       "    <tr>\n",
       "      <th>2021-02-20</th>\n",
       "      <td>../data/zones/_Global-Earth/FCOVER/FCOVER300_R...</td>\n",
       "      <td>6</td>\n",
       "    </tr>\n",
       "    <tr>\n",
       "      <th>2021-06-20</th>\n",
       "      <td>../data/zones/_Global-Earth/FCOVER/FCOVER300_R...</td>\n",
       "      <td>6</td>\n",
       "    </tr>\n",
       "  </tbody>\n",
       "</table>\n",
       "</div>"
      ],
      "text/plain": [
       "                                                         FILE  REVISION\n",
       "DATE                                                                   \n",
       "2021-02-20  ../data/zones/_Global-Earth/FCOVER/FCOVER300_R...         6\n",
       "2021-06-20  ../data/zones/_Global-Earth/FCOVER/FCOVER300_R...         6"
      ]
     },
     "execution_count": 6,
     "metadata": {},
     "output_type": "execute_result"
    }
   ],
   "source": [
    "df = sat.ocli.get_ncfiles()\n",
    "df"
   ]
  },
  {
   "cell_type": "code",
   "execution_count": 7,
   "metadata": {},
   "outputs": [
    {
     "data": {
      "text/plain": [
       "'../data/zones/_Global-Earth/FCOVER/FCOVER300_RT6_202102200000_GLOBE_OLCI_V1.1.1/c_gls_FCOVER300-RT6_202102200000_GLOBE_OLCI_V1.1.1.nc'"
      ]
     },
     "execution_count": 7,
     "metadata": {},
     "output_type": "execute_result"
    }
   ],
   "source": [
    "fname = df.FILE[0]\n",
    "fname"
   ]
  },
  {
   "cell_type": "code",
   "execution_count": 8,
   "metadata": {},
   "outputs": [],
   "source": [
    "F,E = sat.ocli.get_ncvalues(zone,fname,'FCOVER')"
   ]
  },
  {
   "cell_type": "code",
   "execution_count": 9,
   "metadata": {},
   "outputs": [
    {
     "data": {
      "text/plain": [
       "Text(0.5, 1.0, 'Chypre [FCOVER] last:20/02/2021')"
      ]
     },
     "execution_count": 9,
     "metadata": {},
     "output_type": "execute_result"
    },
    {
     "data": {
      "image/png": "[encoded data removed]",
      "text/plain": [
       "<Figure size 648x432 with 1 Axes>"
      ]
     },
     "metadata": {
      "needs_background": "light"
     },
     "output_type": "display_data"
    }
   ],
   "source": [
    "# Affichage de l'image.\n",
    "plt.imshow(F)\n",
    "plt.title(zone['name'] + \" [FCOVER] last:\" + df.index[0].strftime('%d/%m/%Y'))"
   ]
  },
  {
   "cell_type": "code",
   "execution_count": 10,
   "metadata": {},
   "outputs": [
    {
     "data": {
      "text/plain": [
       "array([[nan, nan, nan, ..., nan, nan, nan],\n",
       "       [nan, nan, nan, ..., nan, nan, nan],\n",
       "       [nan, nan, nan, ..., nan, nan, nan],\n",
       "       ...,\n",
       "       [nan, nan, nan, ..., nan, nan, nan],\n",
       "       [nan, nan, nan, ..., nan, nan, nan],\n",
       "       [nan, nan, nan, ..., nan, nan, nan]])"
      ]
     },
     "execution_count": 10,
     "metadata": {},
     "output_type": "execute_result"
    }
   ],
   "source": [
    "F"
   ]
  },
  {
   "cell_type": "code",
   "execution_count": 11,
   "metadata": {},
   "outputs": [
    {
     "data": {
      "text/plain": [
       "array([[nan, nan, nan, ..., nan, nan, nan],\n",
       "       [nan, nan, nan, ..., nan, nan, nan],\n",
       "       [nan, nan, nan, ..., nan, nan, nan],\n",
       "       ...,\n",
       "       [nan, nan, nan, ..., nan, nan, nan],\n",
       "       [nan, nan, nan, ..., nan, nan, nan],\n",
       "       [nan, nan, nan, ..., nan, nan, nan]])"
      ]
     },
     "execution_count": 11,
     "metadata": {},
     "output_type": "execute_result"
    }
   ],
   "source": [
    "E"
   ]
  },
  {
   "cell_type": "code",
   "execution_count": null,
   "metadata": {},
   "outputs": [],
   "source": []
  }
 ],
 "metadata": {
  "kernelspec": {
   "display_name": "gd39",
   "language": "python",
   "name": "python3"
  },
  "language_info": {
   "codemirror_mode": {
    "name": "ipython",
    "version": 3
   },
   "file_extension": ".py",
   "mimetype": "text/x-python",
   "name": "python",
   "nbconvert_exporter": "python",
   "pygments_lexer": "ipython3",
   "version": "3.9.4"
  },
  "orig_nbformat": 4,
  "vscode": {
   "interpreter": {
    "hash": "a6d3978fac2f94b35773b9c8291412caf0c75e33fb63611a5c71fe933d8c7105"
   }
  }
 },
 "nbformat": 4,
 "nbformat_minor": 2
}

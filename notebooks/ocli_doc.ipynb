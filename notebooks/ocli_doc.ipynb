{
 "cells": [
  {
   "attachments": {},
   "cell_type": "markdown",
   "metadata": {},
   "source": [
    "# Récupération et affichage d'images optiques.\n",
    "\n",
    "Les images optiques sont créées par le capteur OCLI de Sentinel 3. Nous allons récupérer des images prétraitées par GLS sur l'ensemble du globe et extraire des zones géographiques qui nous intéressent.\n",
    "\n",
    "_Version 1.0 [05/02/2023] Jérôme Lacaille_"
   ]
  },
  {
   "cell_type": "code",
   "execution_count": 1,
   "metadata": {},
   "outputs": [],
   "source": [
    "import os\n",
    "import numpy as np\n",
    "import pandas as pd\n",
    "import re\n",
    "\n",
    "import matplotlib.pyplot as plt\n",
    "import matplotlib.dates as mdt\n",
    "from matplotlib.patches import Rectangle\n",
    "%matplotlib inline\n",
    "\n",
    "plt.rcParams[\"figure.figsize\"] = (9,6)"
   ]
  },
  {
   "attachments": {},
   "cell_type": "markdown",
   "metadata": {},
   "source": [
    "On importe notre package et on s'assure qu'on peut le modifier de manière interactive."
   ]
  },
  {
   "cell_type": "code",
   "execution_count": 2,
   "metadata": {},
   "outputs": [],
   "source": [
    "import satellite as sat"
   ]
  },
  {
   "cell_type": "code",
   "execution_count": 3,
   "metadata": {},
   "outputs": [],
   "source": [
    "%reload_ext autoreload\n",
    "%autoreload 2"
   ]
  },
  {
   "attachments": {},
   "cell_type": "markdown",
   "metadata": {},
   "source": [
    "Juste pour s'assurer que tout va bien on charge une liste de zones. Vous pouvez regarder les zones que j'ai choisies, mais vous pouvez très bien,pour la suite utiliser des zones définies par vous-mêmes."
   ]
  },
  {
   "cell_type": "code",
   "execution_count": 4,
   "metadata": {},
   "outputs": [
    {
     "data": {
      "text/plain": [
       "{'name': 'Chypre',\n",
       " 'bbox': [34.85709260445668,\n",
       "  23.397028867484522,\n",
       "  35.631415093017225,\n",
       "  26.44578481885614]}"
      ]
     },
     "execution_count": 4,
     "metadata": {},
     "output_type": "execute_result"
    }
   ],
   "source": [
    "gz = sat.GeoZone('map.geojson')\n",
    "zone = gz[2]\n",
    "zone"
   ]
  },
  {
   "attachments": {},
   "cell_type": "markdown",
   "metadata": {},
   "source": [
    "## 1. Compréhension du stockage des images.\n",
    "Dans les lignes suivantes nous allons charger des images \"netCDF\" et afficher leurs valeurs sur les zones géographiques qui nous intéressent."
   ]
  },
  {
   "attachments": {},
   "cell_type": "markdown",
   "metadata": {},
   "source": [
    "## 1.1 Détails des données disponibles.\n",
    "Créons une table contenant pour chaque ligne la date de création \"DATE\", le chemin du fichier \"FILE\" et le numéro de révision par GLS \"REVISION\"."
   ]
  },
  {
   "cell_type": "code",
   "execution_count": 5,
   "metadata": {},
   "outputs": [
    {
     "data": {
      "text/plain": [
       "'/Users/holie/wrk0/satellite/data/zones/_Earth/'"
      ]
     },
     "execution_count": 5,
     "metadata": {},
     "output_type": "execute_result"
    }
   ],
   "source": [
    "# On se souvient que le répertoire \"EARTHDIR\" contient les données de la terre.\n",
    "# Or nous avons stocké les images dans un sous répertoire FCOVER d ece chemin.\n",
    "sat.EARTHDIR"
   ]
  },
  {
   "cell_type": "code",
   "execution_count": 6,
   "metadata": {},
   "outputs": [
    {
     "data": {
      "text/plain": [
       "'/Users/holie/wrk0/satellite/data/zones/_Earth/FCOVER/'"
      ]
     },
     "execution_count": 6,
     "metadata": {},
     "output_type": "execute_result"
    }
   ],
   "source": [
    "rawdir = ...\n",
    "rawdir"
   ]
  },
  {
   "attachments": {},
   "cell_type": "markdown",
   "metadata": {},
   "source": [
    "Récupérons la liste des fichiers .nc.\n",
    "J'utilise usuellement le module \"os\", mais vous pouvez aussi installer \"pathlib\".\n",
    "\n",
    "> [Documentation du module os](https://docs.python.org/fr/3/library/os.html)"
   ]
  },
  {
   "cell_type": "code",
   "execution_count": 22,
   "metadata": {},
   "outputs": [],
   "source": [
    "# Gestion des fichiers et dossiers.\n",
    "import os"
   ]
  },
  {
   "cell_type": "code",
   "execution_count": 23,
   "metadata": {},
   "outputs": [
    {
     "data": {
      "text/plain": [
       "['.DS_Store',\n",
       " 'FCOVER300_RT6_202106200000_GLOBE_OLCI_V1.1.2',\n",
       " 'FCOVER300_RT6_202102200000_GLOBE_OLCI_V1.1.1']"
      ]
     },
     "execution_count": 23,
     "metadata": {},
     "output_type": "execute_result"
    }
   ],
   "source": [
    "# Les dossiers téléchargés.\n",
    "os.listdir(rawdir)"
   ]
  },
  {
   "attachments": {},
   "cell_type": "markdown",
   "metadata": {},
   "source": [
    "Parcourrez l'ensemble de ces dossiers pour ne lister que les fichiers netCDF.\n",
    "\n",
    "_Astuce : utilisez `os.walk` et `os.endwith`._"
   ]
  },
  {
   "cell_type": "code",
   "execution_count": 26,
   "metadata": {},
   "outputs": [
    {
     "data": {
      "text/plain": [
       "['c_gls_FCOVER300-RT6_202106200000_GLOBE_OLCI_V1.1.2.nc',\n",
       " 'c_gls_FCOVER300-RT6_202102200000_GLOBE_OLCI_V1.1.1.nc']"
      ]
     },
     "execution_count": 26,
     "metadata": {},
     "output_type": "execute_result"
    }
   ],
   "source": [
    "# Les fichiers .nc\n",
    "...\n",
    "listfiles"
   ]
  },
  {
   "attachments": {},
   "cell_type": "markdown",
   "metadata": {},
   "source": [
    "Récupérez le dernier fichier.\n",
    "\n",
    "_Astuce : utilisez \"`_`\"._"
   ]
  },
  {
   "cell_type": "code",
   "execution_count": 27,
   "metadata": {},
   "outputs": [
    {
     "data": {
      "text/plain": [
       "'c_gls_FCOVER300-RT6_202102200000_GLOBE_OLCI_V1.1.1.nc'"
      ]
     },
     "execution_count": 27,
     "metadata": {},
     "output_type": "execute_result"
    }
   ],
   "source": [
    "# Petite astuce : _ correspond aux dernier résultat affiché.\n",
    "filename = _[-1]\n",
    "filename"
   ]
  },
  {
   "attachments": {},
   "cell_type": "markdown",
   "metadata": {},
   "source": [
    "Maintenant on extrait la révision et la date à l'aide d'une experssion régulière.\n",
    "\n",
    "> [Documentation sur les experssions régulières](https://docs.python.org/fr/3/library/re.html)"
   ]
  },
  {
   "cell_type": "code",
   "execution_count": 29,
   "metadata": {},
   "outputs": [],
   "source": [
    "# Gestion des expressions régulières.\n",
    "import re"
   ]
  },
  {
   "cell_type": "code",
   "execution_count": 30,
   "metadata": {},
   "outputs": [
    {
     "name": "stdout",
     "output_type": "stream",
     "text": [
      "Le nom du fichier : c_gls_FCOVER300-RT6_202102200000_GLOBE_OLCI_V1.1.1.nc\n",
      "Nombre de groupes : 2\n",
      "La chaine entière : RT6_202102200000_\n",
      "Le premier groupe : RT6\n",
      "Le second groupe  : 202102200000\n",
      "Tous les groupes  : ('RT6', '202102200000')\n"
     ]
    }
   ],
   "source": [
    "# Pour extraire la révision et la date on recherche un pattern RT0_YYYYMMDD0*_ avec un chiffre à la place du 0.\n",
    "print(\"Le nom du fichier :\", filename)\n",
    "m = re.search('(RT[0-9])_([0-9]+)_',filename)\n",
    "\n",
    "print(\"Nombre de groupes :\", m.lastindex)\n",
    "print(\"La chaine entière :\", m[0])\n",
    "print(\"Le premier groupe :\", m[1])\n",
    "print(\"Le second groupe  :\", m[2])\n",
    "print(\"Tous les groupes  :\", m.groups())"
   ]
  },
  {
   "attachments": {},
   "cell_type": "markdown",
   "metadata": {},
   "source": [
    "On veut le numéro de révision et une date Python.\n",
    "Pour la date je vous conseille `pd.to_datetime(chaine,format)` car on va créer une table pandas et que cette fonction admet des paramètres de format."
   ]
  },
  {
   "cell_type": "code",
   "execution_count": 33,
   "metadata": {},
   "outputs": [],
   "source": [
    "from datetime import datetime"
   ]
  },
  {
   "cell_type": "code",
   "execution_count": 45,
   "metadata": {},
   "outputs": [
    {
     "data": {
      "text/plain": [
       "(6, datetime.datetime(2021, 2, 20, 0, 0), Timestamp('2021-02-20 00:00:00'))"
      ]
     },
     "execution_count": 45,
     "metadata": {},
     "output_type": "execute_result"
    }
   ],
   "source": [
    "revision = int(m[1][2])\n",
    "date = datetime.strptime(m[2],'%Y%m%d%H%M')\n",
    "date2 = pd.to_datetime(m[2],format='%Y%m%d%H%M')\n",
    "revision,date, date2"
   ]
  },
  {
   "attachments": {},
   "cell_type": "markdown",
   "metadata": {},
   "source": [
    "Créer la table en parcourant la liste des fichiers.\n",
    "\n",
    "* Attention, si deux fichiers sont datés du même jour, nous ne devons garder que celui qui a la révision la plus élevée.\n",
    "* Ne pas oublier de mettre le chemin complet en rajoutant le répertoire contenant le fichier."
   ]
  },
  {
   "cell_type": "code",
   "execution_count": 67,
   "metadata": {},
   "outputs": [
    {
     "data": {
      "text/html": [
       "<div>\n",
       "<style scoped>\n",
       "    .dataframe tbody tr th:only-of-type {\n",
       "        vertical-align: middle;\n",
       "    }\n",
       "\n",
       "    .dataframe tbody tr th {\n",
       "        vertical-align: top;\n",
       "    }\n",
       "\n",
       "    .dataframe thead th {\n",
       "        text-align: right;\n",
       "    }\n",
       "</style>\n",
       "<table border=\"1\" class=\"dataframe\">\n",
       "  <thead>\n",
       "    <tr style=\"text-align: right;\">\n",
       "      <th></th>\n",
       "      <th>DATE</th>\n",
       "      <th>FILE</th>\n",
       "      <th>REVISION</th>\n",
       "    </tr>\n",
       "  </thead>\n",
       "  <tbody>\n",
       "    <tr>\n",
       "      <th>0</th>\n",
       "      <td>2021-06-20</td>\n",
       "      <td>/Users/holie/wrk0/satellite/data/zones/_Earth/...</td>\n",
       "      <td>6</td>\n",
       "    </tr>\n",
       "    <tr>\n",
       "      <th>1</th>\n",
       "      <td>2021-02-20</td>\n",
       "      <td>/Users/holie/wrk0/satellite/data/zones/_Earth/...</td>\n",
       "      <td>6</td>\n",
       "    </tr>\n",
       "  </tbody>\n",
       "</table>\n",
       "</div>"
      ],
      "text/plain": [
       "        DATE                                               FILE  REVISION\n",
       "0 2021-06-20  /Users/holie/wrk0/satellite/data/zones/_Earth/...         6\n",
       "1 2021-02-20  /Users/holie/wrk0/satellite/data/zones/_Earth/...         6"
      ]
     },
     "execution_count": 67,
     "metadata": {},
     "output_type": "execute_result"
    }
   ],
   "source": [
    "# Liste des fichiers disponibles.\n",
    "...\n",
    "\n",
    "df = pd.DataFrame({'DATE': D, 'FILE' : N, 'REVISION' : RT}) \n",
    "df"
   ]
  },
  {
   "cell_type": "markdown",
   "metadata": {},
   "source": [
    "Mettre la date en index et triez la table par date croissante."
   ]
  },
  {
   "cell_type": "code",
   "execution_count": 68,
   "metadata": {},
   "outputs": [
    {
     "data": {
      "text/html": [
       "<div>\n",
       "<style scoped>\n",
       "    .dataframe tbody tr th:only-of-type {\n",
       "        vertical-align: middle;\n",
       "    }\n",
       "\n",
       "    .dataframe tbody tr th {\n",
       "        vertical-align: top;\n",
       "    }\n",
       "\n",
       "    .dataframe thead th {\n",
       "        text-align: right;\n",
       "    }\n",
       "</style>\n",
       "<table border=\"1\" class=\"dataframe\">\n",
       "  <thead>\n",
       "    <tr style=\"text-align: right;\">\n",
       "      <th></th>\n",
       "      <th>FILE</th>\n",
       "      <th>REVISION</th>\n",
       "    </tr>\n",
       "    <tr>\n",
       "      <th>DATE</th>\n",
       "      <th></th>\n",
       "      <th></th>\n",
       "    </tr>\n",
       "  </thead>\n",
       "  <tbody>\n",
       "    <tr>\n",
       "      <th>2021-02-20</th>\n",
       "      <td>/Users/holie/wrk0/satellite/data/zones/_Earth/...</td>\n",
       "      <td>6</td>\n",
       "    </tr>\n",
       "    <tr>\n",
       "      <th>2021-06-20</th>\n",
       "      <td>/Users/holie/wrk0/satellite/data/zones/_Earth/...</td>\n",
       "      <td>6</td>\n",
       "    </tr>\n",
       "  </tbody>\n",
       "</table>\n",
       "</div>"
      ],
      "text/plain": [
       "                                                         FILE  REVISION\n",
       "DATE                                                                   \n",
       "2021-02-20  /Users/holie/wrk0/satellite/data/zones/_Earth/...         6\n",
       "2021-06-20  /Users/holie/wrk0/satellite/data/zones/_Earth/...         6"
      ]
     },
     "execution_count": 68,
     "metadata": {},
     "output_type": "execute_result"
    }
   ],
   "source": [
    "...\n",
    "df"
   ]
  },
  {
   "attachments": {},
   "cell_type": "markdown",
   "metadata": {},
   "source": [
    "## 1.2 Analyse du contenu d'un fichier.\n",
    "Les fichiers récupérés par GLS sont un peu différents des tables habituelles en analyse de données. On va en explorer le contenu, récupérer des informations sur une zone géographique et faire quelques calculs."
   ]
  },
  {
   "attachments": {},
   "cell_type": "markdown",
   "metadata": {},
   "source": [
    "Récupérons le premier fichier."
   ]
  },
  {
   "cell_type": "code",
   "execution_count": 134,
   "metadata": {},
   "outputs": [
    {
     "data": {
      "text/plain": [
       "'/Users/holie/wrk0/satellite/data/zones/_Earth/FCOVER/FCOVER300_RT6_202102200000_GLOBE_OLCI_V1.1.1/c_gls_FCOVER300-RT6_202102200000_GLOBE_OLCI_V1.1.1.nc'"
      ]
     },
     "execution_count": 134,
     "metadata": {},
     "output_type": "execute_result"
    }
   ],
   "source": [
    "img = 0\n",
    "fname = df.FILE[img]\n",
    "fname"
   ]
  },
  {
   "attachments": {},
   "cell_type": "markdown",
   "metadata": {},
   "source": [
    "Les fichiers \".nc\" sont des fichiers netCDF qui nécessitent un package spécial pour les charger (netcdf4). Nous aurrons besoins de deux objets de ce composant : le Dataset qui contient l'image et la fonction num2date qui convertit les champs dates stockés en numériques sous netCDF en dates python.\n",
    "\n",
    "> [netCDF (Network Comon Data Form)](https://fr.wikipedia.org/wiki/NetCDF)\n",
    "\n",
    "> [Documentation de netcdf4](https://unidata.github.io/netcdf4-python/#variables-in-a-netcdf-file)"
   ]
  },
  {
   "cell_type": "code",
   "execution_count": 70,
   "metadata": {},
   "outputs": [],
   "source": [
    "# Imports spécifique à la gestion des images.\n",
    "from netCDF4 import Dataset, num2date # pylint: disable=no-name-in-module"
   ]
  },
  {
   "attachments": {},
   "cell_type": "markdown",
   "metadata": {},
   "source": [
    "On affiche quelques éléments de compréhension...\n",
    "\n",
    "_Attention, ici on va garfder la ressource `nc` ouverte pour se faciliter l'étude, mais en général on essayera plutôt d'encadrer la ressource d'un groupe `with` ou d'une reprise sur erreur._"
   ]
  },
  {
   "cell_type": "code",
   "execution_count": null,
   "metadata": {},
   "outputs": [],
   "source": [
    "nc = Dataset(fname, 'r')"
   ]
  },
  {
   "cell_type": "code",
   "execution_count": 122,
   "metadata": {},
   "outputs": [
    {
     "name": "stdout",
     "output_type": "stream",
     "text": [
      "Dimensions:\n",
      " {'lon': <class 'netCDF4._netCDF4.Dimension'>: name = 'lon', size = 120960, 'lat': <class 'netCDF4._netCDF4.Dimension'>: name = 'lat', size = 47040, 'time': <class 'netCDF4._netCDF4.Dimension'> (unlimited): name = 'time', size = 1}\n",
      "Variables:\n",
      " dict_keys(['FCOVER', 'LENGTH_AFTER', 'LENGTH_BEFORE', 'NOBS', 'QFLAG', 'RMSE', 'crs', 'lat', 'lon', 'time'])\n",
      "FCOVER dimensions: ('time', 'lat', 'lon')\n",
      "lat dimension: ('lat',)\n"
     ]
    },
    {
     "data": {
      "text/plain": [
       "masked_array(\n",
       "  data=[[--, --, --],\n",
       "        [--, --, --],\n",
       "        [--, --, --]],\n",
       "  mask=[[ True,  True,  True],\n",
       "        [ True,  True,  True],\n",
       "        [ True,  True,  True]],\n",
       "  fill_value=255,\n",
       "  dtype=float64)"
      ]
     },
     "execution_count": 122,
     "metadata": {},
     "output_type": "execute_result"
    }
   ],
   "source": [
    "print(\"Dimensions:\\n\", nc.dimensions)\n",
    "print(\"Variables:\\n\", nc.variables.keys())\n",
    "print(\"FCOVER dimensions:\", nc.variables['FCOVER'].dimensions)\n",
    "print(\"lat dimension:\",nc.variables['lat'].dimensions)\n",
    "fcover = nc.variables['FCOVER'][0,0:3,0:3]\n",
    "fcover"
   ]
  },
  {
   "cell_type": "code",
   "execution_count": 79,
   "metadata": {},
   "outputs": [
    {
     "data": {
      "text/plain": [
       "('time', 'lat', 'lon')"
      ]
     },
     "execution_count": 79,
     "metadata": {},
     "output_type": "execute_result"
    }
   ],
   "source": [
    "nc.variables['FCOVER'].dimensions"
   ]
  },
  {
   "cell_type": "code",
   "execution_count": 80,
   "metadata": {},
   "outputs": [
    {
     "data": {
      "text/plain": [
       "('time',)"
      ]
     },
     "execution_count": 80,
     "metadata": {},
     "output_type": "execute_result"
    }
   ],
   "source": [
    "nc.variables['time'].dimensions"
   ]
  },
  {
   "attachments": {},
   "cell_type": "markdown",
   "metadata": {},
   "source": [
    "L'ordre des variables dans la dimension correspond à celui d'une image, donc la première dimension et Y et pas X."
   ]
  },
  {
   "cell_type": "code",
   "execution_count": 117,
   "metadata": {},
   "outputs": [
    {
     "data": {
      "text/plain": [
       "('T', 'Y', 'X')"
      ]
     },
     "execution_count": 117,
     "metadata": {},
     "output_type": "execute_result"
    }
   ],
   "source": [
    "(nc.variables['time'].axis, ... , ...)"
   ]
  },
  {
   "attachments": {},
   "cell_type": "markdown",
   "metadata": {},
   "source": [
    "Une chance ! Les unités correspondent bien à ce dont on a l'habitude."
   ]
  },
  {
   "cell_type": "code",
   "execution_count": 89,
   "metadata": {},
   "outputs": [
    {
     "data": {
      "text/plain": [
       "('days since 1970-01-01 00:00:00', 'degrees_east', 'degrees_north')"
      ]
     },
     "execution_count": 89,
     "metadata": {},
     "output_type": "execute_result"
    }
   ],
   "source": [
    "(nc.variables['time'].units, ... , ...)"
   ]
  },
  {
   "attachments": {},
   "cell_type": "markdown",
   "metadata": {},
   "source": [
    "Affichez le détail de la variable FCOVER."
   ]
  },
  {
   "cell_type": "code",
   "execution_count": 92,
   "metadata": {},
   "outputs": [
    {
     "data": {
      "text/plain": [
       "<class 'netCDF4._netCDF4.Variable'>\n",
       "uint8 FCOVER(time, lat, lon)\n",
       "    _FillValue: 255\n",
       "    standard_name: vegetation_area_fraction\n",
       "    long_name: Fraction of green Vegetation Cover 333m\n",
       "    grid_mapping: crs\n",
       "    scale_factor: 0.004\n",
       "    add_offset: 0.0\n",
       "    units: \n",
       "    valid_range: [  0 250]\n",
       "    missing_value: 255\n",
       "unlimited dimensions: time\n",
       "current shape = (1, 47040, 120960)\n",
       "filling on"
      ]
     },
     "execution_count": 92,
     "metadata": {},
     "output_type": "execute_result"
    }
   ],
   "source": [
    "nc.variables['FCOVER']"
   ]
  },
  {
   "attachments": {},
   "cell_type": "markdown",
   "metadata": {},
   "source": [
    "Maintenant on va extraire la partie de l'image correspondant à notre zone."
   ]
  },
  {
   "cell_type": "code",
   "execution_count": 90,
   "metadata": {},
   "outputs": [],
   "source": [
    "lat0,lon0,lat1,lon1 = zone['bbox']"
   ]
  },
  {
   "cell_type": "code",
   "execution_count": 123,
   "metadata": {},
   "outputs": [],
   "source": [
    "# Les latitudes et longitudes sont jamais masquées, on peu récupérer les valeurs directement. Comme ce sont des dimensions, elles sont scalaires.\n",
    "lon = nc.variables['lon'][:].data\n",
    "lat = ..."
   ]
  },
  {
   "attachments": {},
   "cell_type": "markdown",
   "metadata": {},
   "source": [
    "En utilisant un \"et\" logique `np.logical_and` récupérez le contenu de notre zone d'intérêt."
   ]
  },
  {
   "cell_type": "code",
   "execution_count": 129,
   "metadata": {},
   "outputs": [
    {
     "data": {
      "text/plain": [
       "masked_array(\n",
       "  data=[[--, --, --, ..., --, --, --],\n",
       "        [--, --, --, ..., --, --, --],\n",
       "        [--, --, --, ..., --, --, --],\n",
       "        ...,\n",
       "        [--, --, --, ..., --, --, --],\n",
       "        [--, --, --, ..., --, --, --],\n",
       "        [--, --, --, ..., --, --, --]],\n",
       "  mask=[[ True,  True,  True, ...,  True,  True,  True],\n",
       "        [ True,  True,  True, ...,  True,  True,  True],\n",
       "        [ True,  True,  True, ...,  True,  True,  True],\n",
       "        ...,\n",
       "        [ True,  True,  True, ...,  True,  True,  True],\n",
       "        [ True,  True,  True, ...,  True,  True,  True],\n",
       "        [ True,  True,  True, ...,  True,  True,  True]],\n",
       "  fill_value=255)"
      ]
     },
     "execution_count": 129,
     "metadata": {},
     "output_type": "execute_result"
    }
   ],
   "source": [
    "bx = ...\n",
    "by = ...\n",
    "fc = nc.variables['FCOVER'][0, ..., ...]\n",
    "fc"
   ]
  },
  {
   "attachments": {},
   "cell_type": "markdown",
   "metadata": {},
   "source": [
    "Remplacez les valeurs masquées par des `np.nan` et affichez l'image avec `plt.imshow()`.\n",
    "\n",
    "<mark>N'oubliez pas de fermer la ressource.</mark>"
   ]
  },
  {
   "cell_type": "code",
   "execution_count": 136,
   "metadata": {},
   "outputs": [
    {
     "data": {
      "image/png": "[encoded data removed]",
      "text/plain": [
       "<Figure size 648x432 with 1 Axes>"
      ]
     },
     "metadata": {
      "needs_background": "light"
     },
     "output_type": "display_data"
    }
   ],
   "source": [
    "..."
   ]
  },
  {
   "cell_type": "code",
   "execution_count": null,
   "metadata": {},
   "outputs": [],
   "source": [
    "# Fermeture de la ressource.\n",
    "nc.close()"
   ]
  }
 ],
 "metadata": {
  "kernelspec": {
   "display_name": "gd39",
   "language": "python",
   "name": "python3"
  },
  "language_info": {
   "codemirror_mode": {
    "name": "ipython",
    "version": 3
   },
   "file_extension": ".py",
   "mimetype": "text/x-python",
   "name": "python",
   "nbconvert_exporter": "python",
   "pygments_lexer": "ipython3",
   "version": "3.9.4"
  },
  "orig_nbformat": 4,
  "vscode": {
   "interpreter": {
    "hash": "a6d3978fac2f94b35773b9c8291412caf0c75e33fb63611a5c71fe933d8c7105"
   }
  }
 },
 "nbformat": 4,
 "nbformat_minor": 2
}
